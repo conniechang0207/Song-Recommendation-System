{
 "cells": [
  {
   "cell_type": "code",
   "execution_count": 1,
   "metadata": {},
   "outputs": [],
   "source": [
    "import math as math\n",
    "from operator import itemgetter\n"
   ]
  },
  {
   "cell_type": "code",
   "execution_count": 2,
   "metadata": {},
   "outputs": [],
   "source": [
    "# definie class similarity\n",
    "class similarity:\n",
    "    \n",
    "    # Class instantiation \n",
    "    def __init__ (self, ratingP, ratingQ):\n",
    "        self.ratings1 = ratingP\n",
    "        self.ratings2 = ratingQ\n",
    "    # Minkowski Distance between two vectors\n",
    "    def minkowski(self, r):\n",
    "    \n",
    "        # calcualte minkowski distance\n",
    "        distance = 0       \n",
    "        for k in (set(self.ratings1.keys()) & set(self.ratings2.keys())):\n",
    "            p = self.ratings1[k]\n",
    "            q = self.ratings2[k]\n",
    "            distance += pow(abs(p - q), r)\n",
    "    \n",
    "        # return value of minkowski distance\n",
    "        return pow(distance,1/r)\n",
    "\n",
    "    # Pearson Correlation between two vectors\n",
    "    def pearson(self):\n",
    "        \n",
    "        # Step 1.1\n",
    "        # set n to the number of common keys\n",
    "        # do not hardcode! \n",
    "        # this should work no matter which 2 dictionares I provide\n",
    "        n = 0\n",
    "        sumpq = 0\n",
    "        sump = 0\n",
    "        sumq = 0\n",
    "        sump2 = 0\n",
    "        sumq2 = 0\n",
    "          \n",
    "                \n",
    "        # Step 1.2\n",
    "        # use a SINGLE for loop to calculate the partial sums\n",
    "        # in the computationally efficient form of the pearson correlation   \n",
    "        for k in (set(self.ratings1.keys()) & set(self.ratings2.keys())):\n",
    "            n += 1\n",
    "            p = self.ratings1[k]\n",
    "            q = self.ratings2[k]\n",
    "            sumpq += p * q\n",
    "            sump += p\n",
    "            sumq += q\n",
    "            sump2 += pow(p, 2)\n",
    "            sumq2 += pow(q, 2)\n",
    "        \n",
    "        # Step 1.3\n",
    "        # error check for n==0 condition, and\n",
    "        # return -2 if n==0\n",
    "        if n == 0:\n",
    "            return -2\n",
    "        \n",
    "        # Step 1.4\n",
    "        # calcualte the numerator term for pearson correlation\n",
    "        # using relevant partial sums\n",
    "        nr = (sumpq - (sump * sumq) / n)\n",
    "        \n",
    "        # Step 1.5\n",
    "        # calcualte the denominator term for pearson correlation\n",
    "        # using relevant partial sums\n",
    "        dr = (math.sqrt(sump2 - pow(sump, 2) / n) * math.sqrt(sumq2 - pow(sumq, 2) / n))\n",
    "        \n",
    "        # Step 1.6\n",
    "        # error check for denominator==0 condition\n",
    "        # return -2 if denominator==0\n",
    "        if dr == 0:\n",
    "            return -2\n",
    "        \n",
    "        # Step 1.7\n",
    "        # calcualte the pearson correlation \n",
    "        # using the numerator and deonomminator\n",
    "        # and return the pearson correlation\n",
    "        return nr / dr\n",
    "    \n",
    "\n",
    "        "
   ]
  },
  {
   "cell_type": "code",
   "execution_count": 3,
   "metadata": {},
   "outputs": [],
   "source": [
    "# user ratings - this is the same data as we used in the User Recommendation Lecture\n",
    "songData = {\"Angelica\": {\"Blues Traveler\": 3.5, \"Broken Bells\": 2.0, \"Norah Jones\": 4.5, \"Phoenix\": 5.0, \"Slightly Stoopid\": 1.5, \"The Strokes\": 2.5, \"Vampire Weekend\": 2.0},\n",
    "         \"Bill\":{\"Blues Traveler\": 2.0, \"Broken Bells\": 3.5, \"Deadmau5\": 4.0, \"Phoenix\": 2.0, \"Slightly Stoopid\": 3.5, \"Vampire Weekend\": 3.0},\n",
    "         \"Chan\": {\"Blues Traveler\": 5.0, \"Broken Bells\": 1.0, \"Deadmau5\": 1.0, \"Norah Jones\": 3.0, \"Phoenix\": 5, \"Slightly Stoopid\": 1.0},\n",
    "         \"Dan\": {\"Blues Traveler\": 3.0, \"Broken Bells\": 4.0, \"Deadmau5\": 4.5, \"Phoenix\": 3.0, \"Slightly Stoopid\": 4.5, \"The Strokes\": 4.0, \"Vampire Weekend\": 2.0},\n",
    "         \"Hailey\": {\"Broken Bells\": 4.0, \"Deadmau5\": 1.0, \"Norah Jones\": 4.0, \"The Strokes\": 4.0, \"Vampire Weekend\": 1.0},\n",
    "         \"Jordyn\":  {\"Broken Bells\": 4.5, \"Deadmau5\": 4.0, \"Norah Jones\": 5.0, \"Phoenix\": 5.0, \"Slightly Stoopid\": 4.5, \"The Strokes\": 4.0, \"Vampire Weekend\": 4.0},\n",
    "         \"Sam\": {\"Blues Traveler\": 5.0, \"Broken Bells\": 2.0, \"Norah Jones\": 3.0, \"Phoenix\": 5.0, \"Slightly Stoopid\": 4.0, \"The Strokes\": 5.0},\n",
    "         \"Veronica\": {\"Blues Traveler\": 3.0, \"Norah Jones\": 5.0, \"Phoenix\": 4.0, \"Slightly Stoopid\": 2.5, \"The Strokes\": 3.0}\n",
    "        }"
   ]
  },
  {
   "cell_type": "code",
   "execution_count": 4,
   "metadata": {},
   "outputs": [],
   "source": [
    "# for whom are we making recommendations?\n",
    "userX = \"Hailey\"\n",
    "userXRatings = songData[userX]"
   ]
  },
  {
   "cell_type": "code",
   "execution_count": 5,
   "metadata": {
    "scrolled": true
   },
   "outputs": [
    {
     "name": "stdout",
     "output_type": "stream",
     "text": [
      "[('Angelica', 0.42008402520840293), ('Bill', 0.0), ('Chan', 0.5000000000000001), ('Dan', 0.39056673294247163), ('Jordyn', 0.6123724356957947), ('Sam', -2), ('Veronica', -2)]\n"
     ]
    }
   ],
   "source": [
    "# Step 2.1\n",
    "# find the similarity measure (pearson correlation) between userX's ratings, and each of the other user's ratings.\n",
    "# DO NOT include userX's similarity measure from userX.\n",
    "# use a for loop to get at the other users and their ratings - DO NOT hard code.\n",
    "# use the similarity class to caclulate the simialrity measure (pearson correlation) between user ratings.\n",
    "# assign list of (user, similarityMeasure) tuples to a variable called userSimilarities.\n",
    "# Example of how userSimilarities might look: [('Angelica', 0.42), ('Bill', 0.0), ('Chan', 0.5), ('Dan', 0.39), ('Jordyn', 0.61), ('Sam', -2), ('Veronica', -2)]\n",
    "userSimilarities = []\n",
    "for user, userRatings in songData.items():\n",
    "    if user != userX:\n",
    "        s = similarity(userXRatings, userRatings)\n",
    "        similarityMeasure = s.pearson()\n",
    "        userSimilarities.append((user, similarityMeasure))    \n",
    "\n",
    "print(userSimilarities)\n",
    "        \n"
   ]
  },
  {
   "cell_type": "code",
   "execution_count": null,
   "metadata": {},
   "outputs": [],
   "source": []
  },
  {
   "cell_type": "code",
   "execution_count": 6,
   "metadata": {},
   "outputs": [
    {
     "name": "stdout",
     "output_type": "stream",
     "text": [
      "[('Jordyn', 0.6123724356957947), ('Chan', 0.5000000000000001), ('Angelica', 0.42008402520840293), ('Dan', 0.39056673294247163), ('Bill', 0.0), ('Sam', -2), ('Veronica', -2)]\n"
     ]
    }
   ],
   "source": [
    "userSimilarities.sort(key=itemgetter(1), reverse=True)\n",
    "userSortedSimilarities = userSimilarities\n",
    "print(userSortedSimilarities)"
   ]
  },
  {
   "cell_type": "code",
   "execution_count": 9,
   "metadata": {},
   "outputs": [
    {
     "name": "stdout",
     "output_type": "stream",
     "text": [
      "Jordyn\n"
     ]
    }
   ],
   "source": [
    "userXNN = userSortedSimilarities[0][0]\n",
    "print(userXNN)"
   ]
  },
  {
   "cell_type": "code",
   "execution_count": 13,
   "metadata": {},
   "outputs": [
    {
     "data": {
      "text/plain": [
       "[('Phoenix', 5.0), ('Slightly Stoopid', 4.5)]"
      ]
     },
     "execution_count": 13,
     "metadata": {},
     "output_type": "execute_result"
    }
   ],
   "source": [
    "userXRecos = []\n",
    "userXNNRatings = songData[userXNN]\n",
    "for song in userXNNRatings.keys():\n",
    "    if song not in userXRatings.keys():\n",
    "        userXRecos.append((song, userXNNRatings[song]))\n",
    "        \n",
    "userXRecos\n",
    "    "
   ]
  },
  {
   "cell_type": "code",
   "execution_count": 11,
   "metadata": {},
   "outputs": [],
   "source": [
    "userXSortedRecos = []\n",
    "userXRecos.sort(key=itemgetter(1), reverse = True)\n",
    "userXSortedRecos = userXRecos"
   ]
  },
  {
   "cell_type": "code",
   "execution_count": 12,
   "metadata": {},
   "outputs": [
    {
     "name": "stdout",
     "output_type": "stream",
     "text": [
      "Recommendations for Hailey\n",
      "--------------------------\n",
      "\n",
      "[('Phoenix', 5.0), ('Slightly Stoopid', 4.5)]\n"
     ]
    }
   ],
   "source": [
    "print (\"Recommendations for\", userX)\n",
    "print (\"--------------------------\")\n",
    "print ()\n",
    "print (userXSortedRecos)"
   ]
  },
  {
   "cell_type": "code",
   "execution_count": null,
   "metadata": {},
   "outputs": [],
   "source": []
  },
  {
   "cell_type": "code",
   "execution_count": null,
   "metadata": {},
   "outputs": [],
   "source": []
  },
  {
   "cell_type": "code",
   "execution_count": null,
   "metadata": {},
   "outputs": [],
   "source": []
  }
 ],
 "metadata": {
  "kernelspec": {
   "display_name": "Python 3",
   "language": "python",
   "name": "python3"
  },
  "language_info": {
   "codemirror_mode": {
    "name": "ipython",
    "version": 3
   },
   "file_extension": ".py",
   "mimetype": "text/x-python",
   "name": "python",
   "nbconvert_exporter": "python",
   "pygments_lexer": "ipython3",
   "version": "3.7.1"
  }
 },
 "nbformat": 4,
 "nbformat_minor": 2
}
